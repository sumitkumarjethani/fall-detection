{
 "cells": [
  {
   "cell_type": "code",
   "execution_count": 1,
   "metadata": {},
   "outputs": [],
   "source": [
    "import os"
   ]
  },
  {
   "cell_type": "code",
   "execution_count": 6,
   "metadata": {},
   "outputs": [
    {
     "name": "stdout",
     "output_type": "stream",
     "text": [
      "Renamed 29.jpg to test_dt_no_fall_29.jpg\n",
      "Renamed 30.jpg to test_dt_no_fall_30.jpg\n",
      "Renamed 31.jpg to test_dt_no_fall_31.jpg\n",
      "Renamed 32.jpg to test_dt_no_fall_32.jpg\n",
      "Renamed 33.jpg to test_dt_no_fall_33.jpg\n",
      "Renamed 34.jpg to test_dt_no_fall_34.jpg\n",
      "Renamed 35.jpg to test_dt_no_fall_35.jpg\n",
      "Renamed 36.jpg to test_dt_no_fall_36.jpg\n",
      "Renamed 37.jpg to test_dt_no_fall_37.jpg\n",
      "Renamed 38.jpg to test_dt_no_fall_38.jpg\n",
      "Renamed 39.jpg to test_dt_no_fall_39.jpg\n",
      "Renamed 40.jpg to test_dt_no_fall_40.jpg\n",
      "Renamed 41.jpg to test_dt_no_fall_41.jpg\n",
      "Renamed 42.jpg to test_dt_no_fall_42.jpg\n",
      "Renamed 43.jpg to test_dt_no_fall_43.jpg\n",
      "Renamed 44.jpg to test_dt_no_fall_44.jpg\n",
      "Renamed 45.jpg to test_dt_no_fall_45.jpg\n",
      "Renamed 46.jpg to test_dt_no_fall_46.jpg\n",
      "Renamed 47.jpg to test_dt_no_fall_47.jpg\n",
      "Renamed 48.jpg to test_dt_no_fall_48.jpg\n",
      "Renamed 49.jpg to test_dt_no_fall_49.jpg\n",
      "Renamed 50.jpg to test_dt_no_fall_50.jpg\n"
     ]
    }
   ],
   "source": [
    "import os\n",
    "\n",
    "folder_path = r'C:\\Users\\denis\\Downloads\\test_denis_2\\no fall'\n",
    "\n",
    "# Get a list of file names in the folder\n",
    "file_names = os.listdir(folder_path)\n",
    "\n",
    "# Rename each file with \"uri_\" at the beginning\n",
    "for filename in file_names:\n",
    "    # Check if the file is a regular file (not a folder)\n",
    "    if os.path.isfile(os.path.join(folder_path, filename)):\n",
    "        new_name = \"test_dt_no_fall_\" + filename\n",
    "        os.rename(os.path.join(folder_path, filename), os.path.join(folder_path, new_name))\n",
    "        print(f\"Renamed {filename} to {new_name}\")\n"
   ]
  }
 ],
 "metadata": {
  "kernelspec": {
   "display_name": "base",
   "language": "python",
   "name": "python3"
  },
  "language_info": {
   "codemirror_mode": {
    "name": "ipython",
    "version": 3
   },
   "file_extension": ".py",
   "mimetype": "text/x-python",
   "name": "python",
   "nbconvert_exporter": "python",
   "pygments_lexer": "ipython3",
   "version": "3.8.8"
  },
  "orig_nbformat": 4
 },
 "nbformat": 4,
 "nbformat_minor": 2
}
